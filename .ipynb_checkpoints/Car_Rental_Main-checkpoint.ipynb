{
 "cells": [
  {
   "cell_type": "code",
   "execution_count": 9,
   "id": "524e2f93-bf36-4c56-ad5d-fdf25ad39354",
   "metadata": {},
   "outputs": [
    {
     "ename": "ModuleNotFoundError",
     "evalue": "No module named 'Car_Rental'",
     "output_type": "error",
     "traceback": [
      "\u001b[1;31m---------------------------------------------------------------------------\u001b[0m",
      "\u001b[1;31mModuleNotFoundError\u001b[0m                       Traceback (most recent call last)",
      "Cell \u001b[1;32mIn[9], line 3\u001b[0m\n\u001b[0;32m      1\u001b[0m \u001b[38;5;66;03m# from Car_Rental import customer as cs;\u001b[39;00m\n\u001b[0;32m      2\u001b[0m \u001b[38;5;66;03m# from Car_Rental import renting_Cars as rc;\u001b[39;00m\n\u001b[1;32m----> 3\u001b[0m \u001b[38;5;28;01mimport\u001b[39;00m \u001b[38;5;21;01mCar_Rental\u001b[39;00m\n",
      "\u001b[1;31mModuleNotFoundError\u001b[0m: No module named 'Car_Rental'"
     ]
    }
   ],
   "source": [
    "# from Car_Rental import customer as cs;\n",
    "# from Car_Rental import renting_Cars as rc;\n",
    "import Car_Rental"
   ]
  },
  {
   "cell_type": "code",
   "execution_count": 3,
   "id": "7b81cf05-0fba-4ec8-8400-c06f20b0c989",
   "metadata": {},
   "outputs": [
    {
     "ename": "IndentationError",
     "evalue": "unexpected indent (458617791.py, line 5)",
     "output_type": "error",
     "traceback": [
      "\u001b[1;36m  Cell \u001b[1;32mIn[3], line 5\u001b[1;36m\u001b[0m\n\u001b[1;33m    cars_needed = int(input (\"Enter no of  cars needed with in available  : \\n\"))\u001b[0m\n\u001b[1;37m    ^\u001b[0m\n\u001b[1;31mIndentationError\u001b[0m\u001b[1;31m:\u001b[0m unexpected indent\n"
     ]
    }
   ],
   "source": [
    "print(\"'WELCOME TO CAR RENTAL' \\n'EVERY CARS ARE 5 SEATER' \" )\n",
    "cars_needed = int(input (\"No of cars needed: \"))\n",
    "cars_available = Obj1.request_Cars(cars_needed)\n",
    "\n",
    "    cars_needed = int(input (\"Enter no of  cars needed with in available  : \\n\"))\n",
    "    Obj1.available_Cars(cars_needed)"
   ]
  },
  {
   "cell_type": "code",
   "execution_count": null,
   "id": "d13ddef3-7041-40f0-982f-f3b001678a25",
   "metadata": {},
   "outputs": [],
   "source": [
    "Obj1.car_Return(3)"
   ]
  }
 ],
 "metadata": {
  "kernelspec": {
   "display_name": "Python 3 (ipykernel)",
   "language": "python",
   "name": "python3"
  },
  "language_info": {
   "codemirror_mode": {
    "name": "ipython",
    "version": 3
   },
   "file_extension": ".py",
   "mimetype": "text/x-python",
   "name": "python",
   "nbconvert_exporter": "python",
   "pygments_lexer": "ipython3",
   "version": "3.12.4"
  }
 },
 "nbformat": 4,
 "nbformat_minor": 5
}
